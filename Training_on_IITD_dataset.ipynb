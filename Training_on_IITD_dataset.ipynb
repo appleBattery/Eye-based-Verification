{
  "nbformat": 4,
  "nbformat_minor": 0,
  "metadata": {
    "colab": {
      "name": "Training on IITD dataset.ipynb",
      "provenance": [],
      "collapsed_sections": [],
      "authorship_tag": "ABX9TyPaDM0S1FuK9uz3+Na2FZsn",
      "include_colab_link": true
    },
    "kernelspec": {
      "name": "python3",
      "display_name": "Python 3"
    }
  },
  "cells": [
    {
      "cell_type": "markdown",
      "metadata": {
        "id": "view-in-github",
        "colab_type": "text"
      },
      "source": [
        "<a href=\"https://colab.research.google.com/github/appleBattery/Eye-based-Verification/blob/master/Training_on_IITD_dataset.ipynb\" target=\"_parent\"><img src=\"https://colab.research.google.com/assets/colab-badge.svg\" alt=\"Open In Colab\"/></a>"
      ]
    },
    {
      "cell_type": "markdown",
      "metadata": {
        "id": "8i3P_Vy8CzJT",
        "colab_type": "text"
      },
      "source": [
        "### Initialize"
      ]
    },
    {
      "cell_type": "code",
      "metadata": {
        "id": "0xnosAkIpWzF",
        "colab_type": "code",
        "colab": {}
      },
      "source": [
        "from google.colab import drive\n",
        "from google.colab import files"
      ],
      "execution_count": null,
      "outputs": []
    },
    {
      "cell_type": "code",
      "metadata": {
        "id": "qLy-P3tqpehJ",
        "colab_type": "code",
        "colab": {
          "base_uri": "https://localhost:8080/",
          "height": 124
        },
        "outputId": "70efbf0b-2da4-426c-8668-75577be6f54c"
      },
      "source": [
        "drive.mount(\"/content/drive\")"
      ],
      "execution_count": null,
      "outputs": [
        {
          "output_type": "stream",
          "text": [
            "Go to this URL in a browser: https://accounts.google.com/o/oauth2/auth?client_id=947318989803-6bn6qk8qdgf4n4g3pfee6491hc0brc4i.apps.googleusercontent.com&redirect_uri=urn%3aietf%3awg%3aoauth%3a2.0%3aoob&response_type=code&scope=email%20https%3a%2f%2fwww.googleapis.com%2fauth%2fdocs.test%20https%3a%2f%2fwww.googleapis.com%2fauth%2fdrive%20https%3a%2f%2fwww.googleapis.com%2fauth%2fdrive.photos.readonly%20https%3a%2f%2fwww.googleapis.com%2fauth%2fpeopleapi.readonly\n",
            "\n",
            "Enter your authorization code:\n",
            "··········\n",
            "Mounted at /content/drive\n"
          ],
          "name": "stdout"
        }
      ]
    },
    {
      "cell_type": "markdown",
      "metadata": {
        "id": "sybislSoCm83",
        "colab_type": "text"
      },
      "source": [
        "### Import dependencies"
      ]
    },
    {
      "cell_type": "code",
      "metadata": {
        "id": "z57asuvhljGN",
        "colab_type": "code",
        "colab": {}
      },
      "source": [
        "import torchvision.models as models\n",
        "from torchvision import transforms\n",
        "import torch\n",
        "import h5py\n",
        "import cv2\n",
        "import numpy as np\n",
        "from PIL import Image\n",
        "from matplotlib import pyplot as plt\n",
        "import torch.nn as nn\n",
        "import torch.nn.functional as F\n",
        "from torch.autograd import Variable\n",
        "import torch.optim as optim\n",
        "from torch.utils.data import TensorDataset, DataLoader, Dataset\n",
        "from sklearn.utils import shuffle\n",
        "from sklearn.model_selection import train_test_split"
      ],
      "execution_count": null,
      "outputs": []
    },
    {
      "cell_type": "markdown",
      "metadata": {
        "id": "2AbZITLoCqIA",
        "colab_type": "text"
      },
      "source": [
        "### Load dataset from h5"
      ]
    },
    {
      "cell_type": "code",
      "metadata": {
        "id": "1xl_80hb2F9I",
        "colab_type": "code",
        "colab": {}
      },
      "source": [
        "autobots = transforms.Compose([transforms.Resize((224,224)), # Transformations on the input images\n",
        "                               transforms.ToTensor(),\n",
        "                               transforms.Normalize(mean=[0.485, 0.456, 0.406],std=[0.229, 0.224, 0.225])])"
      ],
      "execution_count": null,
      "outputs": []
    },
    {
      "cell_type": "code",
      "metadata": {
        "id": "UbYjUX2SlrP8",
        "colab_type": "code",
        "colab": {
          "base_uri": "https://localhost:8080/",
          "height": 34
        },
        "outputId": "18fa1bf4-3e82-436e-9544-9ce3647c9014"
      },
      "source": [
        "#resNet50 = models.resnet50(pretrained=True) # pretrained model\n",
        "\n",
        "loc = '/content/drive/My Drive/iris detection/data/iitd.h5' # loading the iitd image dataset from hdf5 file\n",
        "with h5py.File(loc,'r') as f:\n",
        "  iitd_R = np.array(f['R'])\n",
        "  iitd_L = np.array(f['L'])\n",
        "\n",
        "iitd_R.shape,iitd_L.shape # sanity check: 208*5, image dimensions"
      ],
      "execution_count": null,
      "outputs": [
        {
          "output_type": "execute_result",
          "data": {
            "text/plain": [
              "((1040, 240, 320, 3), (1040, 240, 320, 3))"
            ]
          },
          "metadata": {
            "tags": []
          },
          "execution_count": 5
        }
      ]
    },
    {
      "cell_type": "code",
      "metadata": {
        "id": "2xe6eWomxfzi",
        "colab_type": "code",
        "colab": {}
      },
      "source": [
        "n = len(iitd_R)\n",
        "l_eye = np.zeros((n,3,224,224),np.float16)\n",
        "r_eye = np.zeros((n,3,224,224),np.float16)\n",
        "for i in range(n):\n",
        "  img = Image.fromarray(iitd_R[i,:],'RGB')\n",
        "  trans_img = autobots(img)\n",
        "  img = trans_img.numpy()\n",
        "  r_eye[i,:] = img\n",
        "  img = Image.fromarray(iitd_L[i,:],'RGB')\n",
        "  trans_img = autobots(img)\n",
        "  img = trans_img.numpy()\n",
        "  l_eye[i,:] = img\n",
        "\n",
        "iitd_R = None; iitd_L = None"
      ],
      "execution_count": null,
      "outputs": []
    },
    {
      "cell_type": "markdown",
      "metadata": {
        "id": "dIFVuFbO25BF",
        "colab_type": "text"
      },
      "source": [
        "### Create positive and negative image sets and store them in an array"
      ]
    },
    {
      "cell_type": "code",
      "metadata": {
        "id": "SnFaFrOvELQd",
        "colab_type": "code",
        "colab": {}
      },
      "source": [
        "X = np.zeros((8320,2,3,224,224),np.float16)\n",
        "Y = np.zeros((8320,1),np.float16)\n",
        "\n",
        "c = 0; l=l_eye.shape[0] # for positive sets left eye\n",
        "for i in range(0,l//5):\n",
        "  for j in range(i*5,i*5+5):\n",
        "    for k in range(j+1,i*5+5):\n",
        "      X[c,0,:]=l_eye[j,:]\n",
        "      X[c,1,:]=l_eye[k,:]\n",
        "      c+=1\n",
        "\n",
        "n = 2080; # for negative sets (choose n number of random samples) for left eye\n",
        "while(n>0):\n",
        "  i = np.random.randint(0,l-1)\n",
        "  if ((i//5)*5 == (l-5)):\n",
        "    j = np.random.randint(0,(i//5)*5-1)\n",
        "  elif ((i//5) == 0):\n",
        "    j= np.random.randint((i//5 + 1)*5,l-1)\n",
        "  else:\n",
        "    j1=np.random.randint(0,(i//5)*5-1); j2= np.random.randint((i//5 + 1)*5,l-1)\n",
        "    j = j1 if np.random.uniform()>0.5 else j2\n",
        "  if i!=j:\n",
        "    X[c,0,:]=l_eye[i,:]\n",
        "    X[c,1,:]=l_eye[j,:]\n",
        "    c+=1; n-=1\n",
        "\n",
        " # for positive sets right eye\n",
        "for i in range(0,l//5):\n",
        "  for j in range(i*5,i*5+5):\n",
        "    for k in range(j+1,i*5+5):\n",
        "      X[c,0,:]=r_eye[j,:]\n",
        "      X[c,1,:]=r_eye[k,:]\n",
        "      c+=1\n",
        "\n",
        "n = 2080;  # for negative sets (choose n number of random samples) for right eye\n",
        "while(n>0):\n",
        "  i = np.random.randint(0,l-1)\n",
        "  if ((i//5)*5 == (l-5)):\n",
        "    j = np.random.randint(0,(i//5)*5-1)\n",
        "  elif ((i//5) == 0):\n",
        "    j= np.random.randint((i//5 + 1)*5,l-1)\n",
        "  else:\n",
        "    j1=np.random.randint(0,(i//5)*5-1); j2= np.random.randint((i//5 + 1)*5,l-1)\n",
        "    j = j1 if np.random.uniform()>0.5 else j2\n",
        "  if i!=j:\n",
        "    X[c,0,:]=r_eye[i,:]\n",
        "    X[c,1,:]=r_eye[j,:]\n",
        "    c+=1; n-=1\n",
        "\n",
        "for i in range(0,2080):\n",
        "  Y[i] = 1 # for positive sets\n",
        "for i in range(2080,4160):\n",
        "  Y[i] = 0 # for negative sets\n",
        "for i in range(4160,6240):\n",
        "  Y[i] = 1 # for positive sets\n",
        "for i in range(6240,8320):\n",
        "  Y[i] = 0 # for negative sets\n"
      ],
      "execution_count": null,
      "outputs": []
    },
    {
      "cell_type": "code",
      "metadata": {
        "id": "BKAueeci7xO2",
        "colab_type": "code",
        "colab": {}
      },
      "source": [
        "X_train, X_test, Y_train, Y_test = train_test_split(X, Y, test_size=0.1, random_state=11)\n",
        "\n",
        "X = None # clear them from memory\n",
        "Y = None\n",
        "\n",
        "X_train = torch.from_numpy(X_train)\n",
        "Y_train = torch.from_numpy(Y_train)"
      ],
      "execution_count": null,
      "outputs": []
    },
    {
      "cell_type": "markdown",
      "metadata": {
        "id": "lDr2qMa2Dt1b",
        "colab_type": "text"
      },
      "source": [
        "### Define the custom classifier which includes the pretrained model as the first sequential."
      ]
    },
    {
      "cell_type": "code",
      "metadata": {
        "id": "o8txlnhY_kjP",
        "colab_type": "code",
        "colab": {
          "base_uri": "https://localhost:8080/",
          "height": 1000
        },
        "outputId": "0649ebec-c900-4afb-b283-88d6dc690302"
      },
      "source": [
        "device = torch.device(\"cuda:0\" if torch.cuda.is_available() else \"cpu\")\n",
        "print(device)\n",
        "\n",
        "class iris_classifier(nn.Module):\n",
        "  def __init__(self):\n",
        "    super(iris_classifier, self).__init__()\n",
        "    self.resNet50 = models.resnet50(pretrained=True)\n",
        "    # Here you get the bottleneck/feature extractor\n",
        "    modules=list(self.resNet50.children())[:-1]\n",
        "    self.resNet50 = torch.nn.Sequential(*modules)\n",
        "\n",
        "    self.resNet50.flat = torch.nn.Flatten()\n",
        "    \n",
        "    for param in self.resNet50.parameters():\n",
        "      param.requires_grad = False # freeze all layers of the convnet\n",
        "    \n",
        "    self.fc1 = nn.Linear(2048,1024)\n",
        "    self.fc2 = nn.Linear(1024,128)\n",
        "    self.fc3 = nn.Linear(256,16)\n",
        "    self.fc4 = nn.Linear(16,1)\n",
        "\n",
        "    # Set your own forward pass\n",
        "  def forward(self, img1, img2):\n",
        "    self.resNet50.eval()\n",
        "    out1 = self.resNet50(img1)\n",
        "    out2 = self.resNet50(img2)\n",
        "    \n",
        "    out1 = F.relu(self.fc1(out1))\n",
        "    out2 = F.relu(self.fc1(out2))\n",
        "    out1 = F.relu(self.fc2(out1))\n",
        "    out2 = F.relu(self.fc2(out2))\n",
        "\n",
        "    out = torch.cat((out1,out2),1)\n",
        "\n",
        "    out = F.relu(self.fc3(out))\n",
        "    out = self.fc4(out)\n",
        "\n",
        "    return out\n",
        "\n",
        "classifier = iris_classifier()\n",
        "classifier = classifier.to(device)\n",
        "print(classifier)"
      ],
      "execution_count": null,
      "outputs": [
        {
          "output_type": "stream",
          "text": [
            "cuda:0\n",
            "iris_classifier(\n",
            "  (resNet50): Sequential(\n",
            "    (0): Conv2d(3, 64, kernel_size=(7, 7), stride=(2, 2), padding=(3, 3), bias=False)\n",
            "    (1): BatchNorm2d(64, eps=1e-05, momentum=0.1, affine=True, track_running_stats=True)\n",
            "    (2): ReLU(inplace=True)\n",
            "    (3): MaxPool2d(kernel_size=3, stride=2, padding=1, dilation=1, ceil_mode=False)\n",
            "    (4): Sequential(\n",
            "      (0): Bottleneck(\n",
            "        (conv1): Conv2d(64, 64, kernel_size=(1, 1), stride=(1, 1), bias=False)\n",
            "        (bn1): BatchNorm2d(64, eps=1e-05, momentum=0.1, affine=True, track_running_stats=True)\n",
            "        (conv2): Conv2d(64, 64, kernel_size=(3, 3), stride=(1, 1), padding=(1, 1), bias=False)\n",
            "        (bn2): BatchNorm2d(64, eps=1e-05, momentum=0.1, affine=True, track_running_stats=True)\n",
            "        (conv3): Conv2d(64, 256, kernel_size=(1, 1), stride=(1, 1), bias=False)\n",
            "        (bn3): BatchNorm2d(256, eps=1e-05, momentum=0.1, affine=True, track_running_stats=True)\n",
            "        (relu): ReLU(inplace=True)\n",
            "        (downsample): Sequential(\n",
            "          (0): Conv2d(64, 256, kernel_size=(1, 1), stride=(1, 1), bias=False)\n",
            "          (1): BatchNorm2d(256, eps=1e-05, momentum=0.1, affine=True, track_running_stats=True)\n",
            "        )\n",
            "      )\n",
            "      (1): Bottleneck(\n",
            "        (conv1): Conv2d(256, 64, kernel_size=(1, 1), stride=(1, 1), bias=False)\n",
            "        (bn1): BatchNorm2d(64, eps=1e-05, momentum=0.1, affine=True, track_running_stats=True)\n",
            "        (conv2): Conv2d(64, 64, kernel_size=(3, 3), stride=(1, 1), padding=(1, 1), bias=False)\n",
            "        (bn2): BatchNorm2d(64, eps=1e-05, momentum=0.1, affine=True, track_running_stats=True)\n",
            "        (conv3): Conv2d(64, 256, kernel_size=(1, 1), stride=(1, 1), bias=False)\n",
            "        (bn3): BatchNorm2d(256, eps=1e-05, momentum=0.1, affine=True, track_running_stats=True)\n",
            "        (relu): ReLU(inplace=True)\n",
            "      )\n",
            "      (2): Bottleneck(\n",
            "        (conv1): Conv2d(256, 64, kernel_size=(1, 1), stride=(1, 1), bias=False)\n",
            "        (bn1): BatchNorm2d(64, eps=1e-05, momentum=0.1, affine=True, track_running_stats=True)\n",
            "        (conv2): Conv2d(64, 64, kernel_size=(3, 3), stride=(1, 1), padding=(1, 1), bias=False)\n",
            "        (bn2): BatchNorm2d(64, eps=1e-05, momentum=0.1, affine=True, track_running_stats=True)\n",
            "        (conv3): Conv2d(64, 256, kernel_size=(1, 1), stride=(1, 1), bias=False)\n",
            "        (bn3): BatchNorm2d(256, eps=1e-05, momentum=0.1, affine=True, track_running_stats=True)\n",
            "        (relu): ReLU(inplace=True)\n",
            "      )\n",
            "    )\n",
            "    (5): Sequential(\n",
            "      (0): Bottleneck(\n",
            "        (conv1): Conv2d(256, 128, kernel_size=(1, 1), stride=(1, 1), bias=False)\n",
            "        (bn1): BatchNorm2d(128, eps=1e-05, momentum=0.1, affine=True, track_running_stats=True)\n",
            "        (conv2): Conv2d(128, 128, kernel_size=(3, 3), stride=(2, 2), padding=(1, 1), bias=False)\n",
            "        (bn2): BatchNorm2d(128, eps=1e-05, momentum=0.1, affine=True, track_running_stats=True)\n",
            "        (conv3): Conv2d(128, 512, kernel_size=(1, 1), stride=(1, 1), bias=False)\n",
            "        (bn3): BatchNorm2d(512, eps=1e-05, momentum=0.1, affine=True, track_running_stats=True)\n",
            "        (relu): ReLU(inplace=True)\n",
            "        (downsample): Sequential(\n",
            "          (0): Conv2d(256, 512, kernel_size=(1, 1), stride=(2, 2), bias=False)\n",
            "          (1): BatchNorm2d(512, eps=1e-05, momentum=0.1, affine=True, track_running_stats=True)\n",
            "        )\n",
            "      )\n",
            "      (1): Bottleneck(\n",
            "        (conv1): Conv2d(512, 128, kernel_size=(1, 1), stride=(1, 1), bias=False)\n",
            "        (bn1): BatchNorm2d(128, eps=1e-05, momentum=0.1, affine=True, track_running_stats=True)\n",
            "        (conv2): Conv2d(128, 128, kernel_size=(3, 3), stride=(1, 1), padding=(1, 1), bias=False)\n",
            "        (bn2): BatchNorm2d(128, eps=1e-05, momentum=0.1, affine=True, track_running_stats=True)\n",
            "        (conv3): Conv2d(128, 512, kernel_size=(1, 1), stride=(1, 1), bias=False)\n",
            "        (bn3): BatchNorm2d(512, eps=1e-05, momentum=0.1, affine=True, track_running_stats=True)\n",
            "        (relu): ReLU(inplace=True)\n",
            "      )\n",
            "      (2): Bottleneck(\n",
            "        (conv1): Conv2d(512, 128, kernel_size=(1, 1), stride=(1, 1), bias=False)\n",
            "        (bn1): BatchNorm2d(128, eps=1e-05, momentum=0.1, affine=True, track_running_stats=True)\n",
            "        (conv2): Conv2d(128, 128, kernel_size=(3, 3), stride=(1, 1), padding=(1, 1), bias=False)\n",
            "        (bn2): BatchNorm2d(128, eps=1e-05, momentum=0.1, affine=True, track_running_stats=True)\n",
            "        (conv3): Conv2d(128, 512, kernel_size=(1, 1), stride=(1, 1), bias=False)\n",
            "        (bn3): BatchNorm2d(512, eps=1e-05, momentum=0.1, affine=True, track_running_stats=True)\n",
            "        (relu): ReLU(inplace=True)\n",
            "      )\n",
            "      (3): Bottleneck(\n",
            "        (conv1): Conv2d(512, 128, kernel_size=(1, 1), stride=(1, 1), bias=False)\n",
            "        (bn1): BatchNorm2d(128, eps=1e-05, momentum=0.1, affine=True, track_running_stats=True)\n",
            "        (conv2): Conv2d(128, 128, kernel_size=(3, 3), stride=(1, 1), padding=(1, 1), bias=False)\n",
            "        (bn2): BatchNorm2d(128, eps=1e-05, momentum=0.1, affine=True, track_running_stats=True)\n",
            "        (conv3): Conv2d(128, 512, kernel_size=(1, 1), stride=(1, 1), bias=False)\n",
            "        (bn3): BatchNorm2d(512, eps=1e-05, momentum=0.1, affine=True, track_running_stats=True)\n",
            "        (relu): ReLU(inplace=True)\n",
            "      )\n",
            "    )\n",
            "    (6): Sequential(\n",
            "      (0): Bottleneck(\n",
            "        (conv1): Conv2d(512, 256, kernel_size=(1, 1), stride=(1, 1), bias=False)\n",
            "        (bn1): BatchNorm2d(256, eps=1e-05, momentum=0.1, affine=True, track_running_stats=True)\n",
            "        (conv2): Conv2d(256, 256, kernel_size=(3, 3), stride=(2, 2), padding=(1, 1), bias=False)\n",
            "        (bn2): BatchNorm2d(256, eps=1e-05, momentum=0.1, affine=True, track_running_stats=True)\n",
            "        (conv3): Conv2d(256, 1024, kernel_size=(1, 1), stride=(1, 1), bias=False)\n",
            "        (bn3): BatchNorm2d(1024, eps=1e-05, momentum=0.1, affine=True, track_running_stats=True)\n",
            "        (relu): ReLU(inplace=True)\n",
            "        (downsample): Sequential(\n",
            "          (0): Conv2d(512, 1024, kernel_size=(1, 1), stride=(2, 2), bias=False)\n",
            "          (1): BatchNorm2d(1024, eps=1e-05, momentum=0.1, affine=True, track_running_stats=True)\n",
            "        )\n",
            "      )\n",
            "      (1): Bottleneck(\n",
            "        (conv1): Conv2d(1024, 256, kernel_size=(1, 1), stride=(1, 1), bias=False)\n",
            "        (bn1): BatchNorm2d(256, eps=1e-05, momentum=0.1, affine=True, track_running_stats=True)\n",
            "        (conv2): Conv2d(256, 256, kernel_size=(3, 3), stride=(1, 1), padding=(1, 1), bias=False)\n",
            "        (bn2): BatchNorm2d(256, eps=1e-05, momentum=0.1, affine=True, track_running_stats=True)\n",
            "        (conv3): Conv2d(256, 1024, kernel_size=(1, 1), stride=(1, 1), bias=False)\n",
            "        (bn3): BatchNorm2d(1024, eps=1e-05, momentum=0.1, affine=True, track_running_stats=True)\n",
            "        (relu): ReLU(inplace=True)\n",
            "      )\n",
            "      (2): Bottleneck(\n",
            "        (conv1): Conv2d(1024, 256, kernel_size=(1, 1), stride=(1, 1), bias=False)\n",
            "        (bn1): BatchNorm2d(256, eps=1e-05, momentum=0.1, affine=True, track_running_stats=True)\n",
            "        (conv2): Conv2d(256, 256, kernel_size=(3, 3), stride=(1, 1), padding=(1, 1), bias=False)\n",
            "        (bn2): BatchNorm2d(256, eps=1e-05, momentum=0.1, affine=True, track_running_stats=True)\n",
            "        (conv3): Conv2d(256, 1024, kernel_size=(1, 1), stride=(1, 1), bias=False)\n",
            "        (bn3): BatchNorm2d(1024, eps=1e-05, momentum=0.1, affine=True, track_running_stats=True)\n",
            "        (relu): ReLU(inplace=True)\n",
            "      )\n",
            "      (3): Bottleneck(\n",
            "        (conv1): Conv2d(1024, 256, kernel_size=(1, 1), stride=(1, 1), bias=False)\n",
            "        (bn1): BatchNorm2d(256, eps=1e-05, momentum=0.1, affine=True, track_running_stats=True)\n",
            "        (conv2): Conv2d(256, 256, kernel_size=(3, 3), stride=(1, 1), padding=(1, 1), bias=False)\n",
            "        (bn2): BatchNorm2d(256, eps=1e-05, momentum=0.1, affine=True, track_running_stats=True)\n",
            "        (conv3): Conv2d(256, 1024, kernel_size=(1, 1), stride=(1, 1), bias=False)\n",
            "        (bn3): BatchNorm2d(1024, eps=1e-05, momentum=0.1, affine=True, track_running_stats=True)\n",
            "        (relu): ReLU(inplace=True)\n",
            "      )\n",
            "      (4): Bottleneck(\n",
            "        (conv1): Conv2d(1024, 256, kernel_size=(1, 1), stride=(1, 1), bias=False)\n",
            "        (bn1): BatchNorm2d(256, eps=1e-05, momentum=0.1, affine=True, track_running_stats=True)\n",
            "        (conv2): Conv2d(256, 256, kernel_size=(3, 3), stride=(1, 1), padding=(1, 1), bias=False)\n",
            "        (bn2): BatchNorm2d(256, eps=1e-05, momentum=0.1, affine=True, track_running_stats=True)\n",
            "        (conv3): Conv2d(256, 1024, kernel_size=(1, 1), stride=(1, 1), bias=False)\n",
            "        (bn3): BatchNorm2d(1024, eps=1e-05, momentum=0.1, affine=True, track_running_stats=True)\n",
            "        (relu): ReLU(inplace=True)\n",
            "      )\n",
            "      (5): Bottleneck(\n",
            "        (conv1): Conv2d(1024, 256, kernel_size=(1, 1), stride=(1, 1), bias=False)\n",
            "        (bn1): BatchNorm2d(256, eps=1e-05, momentum=0.1, affine=True, track_running_stats=True)\n",
            "        (conv2): Conv2d(256, 256, kernel_size=(3, 3), stride=(1, 1), padding=(1, 1), bias=False)\n",
            "        (bn2): BatchNorm2d(256, eps=1e-05, momentum=0.1, affine=True, track_running_stats=True)\n",
            "        (conv3): Conv2d(256, 1024, kernel_size=(1, 1), stride=(1, 1), bias=False)\n",
            "        (bn3): BatchNorm2d(1024, eps=1e-05, momentum=0.1, affine=True, track_running_stats=True)\n",
            "        (relu): ReLU(inplace=True)\n",
            "      )\n",
            "    )\n",
            "    (7): Sequential(\n",
            "      (0): Bottleneck(\n",
            "        (conv1): Conv2d(1024, 512, kernel_size=(1, 1), stride=(1, 1), bias=False)\n",
            "        (bn1): BatchNorm2d(512, eps=1e-05, momentum=0.1, affine=True, track_running_stats=True)\n",
            "        (conv2): Conv2d(512, 512, kernel_size=(3, 3), stride=(2, 2), padding=(1, 1), bias=False)\n",
            "        (bn2): BatchNorm2d(512, eps=1e-05, momentum=0.1, affine=True, track_running_stats=True)\n",
            "        (conv3): Conv2d(512, 2048, kernel_size=(1, 1), stride=(1, 1), bias=False)\n",
            "        (bn3): BatchNorm2d(2048, eps=1e-05, momentum=0.1, affine=True, track_running_stats=True)\n",
            "        (relu): ReLU(inplace=True)\n",
            "        (downsample): Sequential(\n",
            "          (0): Conv2d(1024, 2048, kernel_size=(1, 1), stride=(2, 2), bias=False)\n",
            "          (1): BatchNorm2d(2048, eps=1e-05, momentum=0.1, affine=True, track_running_stats=True)\n",
            "        )\n",
            "      )\n",
            "      (1): Bottleneck(\n",
            "        (conv1): Conv2d(2048, 512, kernel_size=(1, 1), stride=(1, 1), bias=False)\n",
            "        (bn1): BatchNorm2d(512, eps=1e-05, momentum=0.1, affine=True, track_running_stats=True)\n",
            "        (conv2): Conv2d(512, 512, kernel_size=(3, 3), stride=(1, 1), padding=(1, 1), bias=False)\n",
            "        (bn2): BatchNorm2d(512, eps=1e-05, momentum=0.1, affine=True, track_running_stats=True)\n",
            "        (conv3): Conv2d(512, 2048, kernel_size=(1, 1), stride=(1, 1), bias=False)\n",
            "        (bn3): BatchNorm2d(2048, eps=1e-05, momentum=0.1, affine=True, track_running_stats=True)\n",
            "        (relu): ReLU(inplace=True)\n",
            "      )\n",
            "      (2): Bottleneck(\n",
            "        (conv1): Conv2d(2048, 512, kernel_size=(1, 1), stride=(1, 1), bias=False)\n",
            "        (bn1): BatchNorm2d(512, eps=1e-05, momentum=0.1, affine=True, track_running_stats=True)\n",
            "        (conv2): Conv2d(512, 512, kernel_size=(3, 3), stride=(1, 1), padding=(1, 1), bias=False)\n",
            "        (bn2): BatchNorm2d(512, eps=1e-05, momentum=0.1, affine=True, track_running_stats=True)\n",
            "        (conv3): Conv2d(512, 2048, kernel_size=(1, 1), stride=(1, 1), bias=False)\n",
            "        (bn3): BatchNorm2d(2048, eps=1e-05, momentum=0.1, affine=True, track_running_stats=True)\n",
            "        (relu): ReLU(inplace=True)\n",
            "      )\n",
            "    )\n",
            "    (8): AdaptiveAvgPool2d(output_size=(1, 1))\n",
            "    (flat): Flatten()\n",
            "  )\n",
            "  (fc1): Linear(in_features=2048, out_features=1024, bias=True)\n",
            "  (fc2): Linear(in_features=1024, out_features=128, bias=True)\n",
            "  (fc3): Linear(in_features=256, out_features=16, bias=True)\n",
            "  (fc4): Linear(in_features=16, out_features=1, bias=True)\n",
            ")\n"
          ],
          "name": "stdout"
        }
      ]
    },
    {
      "cell_type": "markdown",
      "metadata": {
        "id": "l3FHHFgAK1ru",
        "colab_type": "text"
      },
      "source": [
        "### Building the Dataset class pytorch"
      ]
    },
    {
      "cell_type": "code",
      "metadata": {
        "id": "GcjxLU9IK019",
        "colab_type": "code",
        "colab": {}
      },
      "source": [
        "class train_dataset(Dataset):\n",
        "  def __init__(self):\n",
        "    self.samples = {'X': X_train,'Y': Y_train}\n",
        "  def __len__(self):\n",
        "    return self.samples['X'].shape[0]\n",
        "  def __getitem__(self, idx):\n",
        "    return (self.samples['X'][idx,0,:],self.samples['X'][idx,1,:],self.samples['Y'][idx])"
      ],
      "execution_count": null,
      "outputs": []
    },
    {
      "cell_type": "code",
      "metadata": {
        "id": "4sU565yv5eRv",
        "colab_type": "code",
        "colab": {}
      },
      "source": [
        "train_set = train_dataset()"
      ],
      "execution_count": null,
      "outputs": []
    },
    {
      "cell_type": "markdown",
      "metadata": {
        "id": "gZUlxF7zGl7F",
        "colab_type": "text"
      },
      "source": [
        "### Training With dataloader class:"
      ]
    },
    {
      "cell_type": "code",
      "metadata": {
        "id": "Y-hgZqDnGlNl",
        "colab_type": "code",
        "colab": {}
      },
      "source": [
        "size_batches = 128; no_batches = X_train.shape[0]//size_batches\n",
        "criterion = nn.BCEWithLogitsLoss()\n",
        "optimizer = optim.SGD(classifier.parameters(), lr=0.01, momentum=0.9)\n",
        "#scheduler = torch.optim.lr_scheduler.StepLR(optimizer, step_size = 10, gamma=0.9)\n",
        "trainloader = torch.utils.data.DataLoader(train_set, batch_size=size_batches,shuffle=True, num_workers = 1)"
      ],
      "execution_count": null,
      "outputs": []
    },
    {
      "cell_type": "code",
      "metadata": {
        "id": "7dSLwimGGweg",
        "colab_type": "code",
        "colab": {
          "base_uri": "https://localhost:8080/",
          "height": 1000
        },
        "outputId": "5f574237-d5f3-4e11-a9fa-300148217964"
      },
      "source": [
        "loss_values = []\n",
        "for epoch in range(100):  # loop over the dataset multiple times\n",
        "  running_loss = 0.0\n",
        "  \n",
        "  for data in trainloader:\n",
        "    img1_batch, img2_batch, labels = data\n",
        "    img1_batch = img1_batch.to(device); img2_batch = img2_batch.to(device); labels = labels.to(device)\n",
        "    img1_batch = img1_batch.type(torch.cuda.FloatTensor); img2_batch = img2_batch.type(torch.cuda.FloatTensor)\n",
        "\n",
        "    # zero the parameter gradients\n",
        "    optimizer.zero_grad()\n",
        "\n",
        "    classifier.train()\n",
        "\n",
        "    outputs = classifier(img1_batch,img2_batch)\n",
        "    loss = criterion(outputs, labels)\n",
        "    loss.backward()\n",
        "    optimizer.step()\n",
        "    #scheduler.step()\n",
        "\n",
        "    running_loss += loss.item()\n",
        "    #print(running_loss)\n",
        "    #running_loss=0\n",
        "\n",
        "  epoch_loss = round((running_loss/no_batches),8)\n",
        "  print(epoch_loss)\n",
        "  loss_values.append(epoch_loss)\n",
        "\n",
        "print('Finished Training')"
      ],
      "execution_count": null,
      "outputs": [
        {
          "output_type": "stream",
          "text": [
            "0.7058358\n",
            "0.70417733\n",
            "0.70224104\n",
            "0.69861261\n",
            "0.68566474\n",
            "0.60561187\n",
            "0.443734\n",
            "0.40087049\n",
            "0.3755893\n",
            "0.36021476\n",
            "0.34040149\n",
            "0.33266475\n",
            "0.31945169\n",
            "0.3081665\n",
            "0.30865479\n",
            "0.29478718\n",
            "0.29278775\n",
            "0.28383873\n",
            "0.27774784\n",
            "0.26936077\n",
            "0.27250724\n",
            "0.27008899\n",
            "0.26243013\n",
            "0.24903817\n",
            "0.24347976\n",
            "0.23659542\n",
            "0.22695607\n",
            "0.21879841\n",
            "0.21562563\n",
            "0.21399978\n",
            "0.20723751\n",
            "0.20020268\n",
            "0.19336779\n",
            "0.20454459\n",
            "0.19035287\n",
            "0.17834473\n",
            "0.17360082\n",
            "0.18066932\n",
            "0.16774671\n",
            "0.15824732\n",
            "0.1567225\n",
            "0.15813999\n",
            "0.13979682\n",
            "0.12922248\n",
            "0.116353\n",
            "0.11966942\n",
            "0.103845\n",
            "0.09629927\n",
            "0.08942597\n",
            "0.07541341\n",
            "0.06731257\n",
            "0.07361813\n",
            "0.06298881\n",
            "0.06294829\n",
            "0.06444523\n",
            "0.05109932\n",
            "0.0495295\n",
            "0.03951961\n",
            "0.03652638\n",
            "0.04451226\n",
            "0.04239799\n",
            "0.03927152\n",
            "0.04427088\n",
            "0.04386422\n",
            "0.03632407\n",
            "0.02492556\n",
            "0.02496568\n",
            "0.02311417\n",
            "0.0320551\n",
            "0.02680693\n",
            "0.02618803\n",
            "0.02408113\n",
            "0.01902679\n",
            "0.01141686\n",
            "0.01040926\n",
            "0.00718765\n",
            "0.00677163\n",
            "0.00455194\n",
            "0.00412904\n",
            "0.00604728\n",
            "0.00354142\n",
            "0.00254731\n",
            "0.00199809\n",
            "0.00167447\n",
            "0.00149942\n",
            "0.00132414\n",
            "0.00129501\n",
            "0.00117173\n",
            "0.00124299\n",
            "0.00110513\n",
            "0.00114413\n",
            "0.00099374\n",
            "0.00095314\n",
            "0.00099993\n",
            "0.00095447\n",
            "0.00094662\n",
            "0.00070192\n",
            "0.0006848\n",
            "0.00091558\n",
            "0.00075081\n",
            "Finished Training\n"
          ],
          "name": "stdout"
        }
      ]
    },
    {
      "cell_type": "markdown",
      "metadata": {
        "id": "Hi-qccRDCo87",
        "colab_type": "text"
      },
      "source": [
        "### Save and load Trained Model"
      ]
    },
    {
      "cell_type": "code",
      "metadata": {
        "id": "nDVeXrAxCnkf",
        "colab_type": "code",
        "colab": {}
      },
      "source": [
        "path = '/content/drive/My Drive/iris detection/data/'\n",
        "torch.save(classifier.state_dict(), path+'model0_100.pth')"
      ],
      "execution_count": null,
      "outputs": []
    },
    {
      "cell_type": "code",
      "metadata": {
        "id": "Cvvk_s06g58L",
        "colab_type": "code",
        "colab": {}
      },
      "source": [
        "loss_values1 = np.array(loss_values)\n",
        "loss_values0 = np.load('/content/drive/My Drive/iris detection/data/model1_losses.npy')\n",
        "loss_values1 = np.expand_dims(loss_values1,0)\n",
        "loss_values0 = np.expand_dims(loss_values0,0)\n",
        "loss_values = np.concatenate((loss_values0,loss_values1),axis=1)"
      ],
      "execution_count": null,
      "outputs": []
    },
    {
      "cell_type": "code",
      "metadata": {
        "id": "UwGdgZhijgxJ",
        "colab_type": "code",
        "colab": {
          "base_uri": "https://localhost:8080/",
          "height": 282
        },
        "outputId": "7f1f43e5-e038-431b-9f86-811dad47bdb4"
      },
      "source": [
        "loss_values = np.squeeze(loss_values)\n",
        "plt.plot(loss_values)"
      ],
      "execution_count": null,
      "outputs": [
        {
          "output_type": "execute_result",
          "data": {
            "text/plain": [
              "[<matplotlib.lines.Line2D at 0x7fe483efbf28>]"
            ]
          },
          "metadata": {
            "tags": []
          },
          "execution_count": 70
        },
        {
          "output_type": "display_data",
          "data": {
            "image/png": "[encoded data removed]",
            "text/plain": [
              "<Figure size 432x288 with 1 Axes>"
            ]
          },
          "metadata": {
            "tags": [],
            "needs_background": "light"
          }
        }
      ]
    },
    {
      "cell_type": "code",
      "metadata": {
        "id": "1_Jkf3JrVS05",
        "colab_type": "code",
        "colab": {}
      },
      "source": [
        "np.save('/content/drive/My Drive/iris detection/data/model0_losses.npy',loss_values)"
      ],
      "execution_count": null,
      "outputs": []
    },
    {
      "cell_type": "code",
      "metadata": {
        "id": "hBQfL-slCvAs",
        "colab_type": "code",
        "colab": {
          "base_uri": "https://localhost:8080/",
          "height": 34
        },
        "outputId": "412c8b48-1090-4c8b-9b84-38debddf1350"
      },
      "source": [
        "the_model = iris_classifier()\n",
        "the_model.load_state_dict(torch.load(path))"
      ],
      "execution_count": null,
      "outputs": [
        {
          "output_type": "execute_result",
          "data": {
            "text/plain": [
              "<All keys matched successfully>"
            ]
          },
          "metadata": {
            "tags": []
          },
          "execution_count": 80
        }
      ]
    },
    {
      "cell_type": "markdown",
      "metadata": {
        "id": "xNnChkl9Qtgc",
        "colab_type": "text"
      },
      "source": [
        "### To check what parameters are being trained:"
      ]
    },
    {
      "cell_type": "code",
      "metadata": {
        "id": "1bBnUUdknDTK",
        "colab_type": "code",
        "colab": {}
      },
      "source": [
        "for name, param in classifier.named_parameters():\n",
        "    if param.requires_grad:\n",
        "        print(name, param.data)"
      ],
      "execution_count": null,
      "outputs": []
    },
    {
      "cell_type": "code",
      "metadata": {
        "id": "Roi8G_GpQQWi",
        "colab_type": "code",
        "colab": {}
      },
      "source": [
        "print(classifier.resNet50.fc.weight[:,0])"
      ],
      "execution_count": null,
      "outputs": []
    },
    {
      "cell_type": "markdown",
      "metadata": {
        "id": "b6jbO3I8CPcC",
        "colab_type": "text"
      },
      "source": [
        "### Testing of trained model"
      ]
    },
    {
      "cell_type": "code",
      "metadata": {
        "id": "0Ehkq8LLqz36",
        "colab_type": "code",
        "colab": {}
      },
      "source": [
        "X_test = torch.from_numpy(X_test)\n",
        "Y_test = torch.from_numpy(Y_test)"
      ],
      "execution_count": null,
      "outputs": []
    },
    {
      "cell_type": "code",
      "metadata": {
        "id": "yPtseWEnpuqa",
        "colab_type": "code",
        "colab": {}
      },
      "source": [
        "class test_dataset(Dataset):\n",
        "  def __init__(self):\n",
        "    self.samples = {'X': X_test,'Y': Y_test}\n",
        "  def __len__(self):\n",
        "    return self.samples['X'].shape[0]\n",
        "  def __getitem__(self, idx):\n",
        "    return (self.samples['X'][idx,0,:],self.samples['X'][idx,1,:],self.samples['Y'][idx])\n",
        "\n",
        "test_set = test_dataset()"
      ],
      "execution_count": null,
      "outputs": []
    },
    {
      "cell_type": "code",
      "metadata": {
        "id": "BLa0QkqDlszy",
        "colab_type": "code",
        "colab": {}
      },
      "source": [
        "testloader = torch.utils.data.DataLoader(test_set, batch_size=64,shuffle=True, num_workers = 1)"
      ],
      "execution_count": null,
      "outputs": []
    },
    {
      "cell_type": "code",
      "metadata": {
        "id": "G8knZXc5COmG",
        "colab_type": "code",
        "colab": {
          "base_uri": "https://localhost:8080/",
          "height": 34
        },
        "outputId": "e4ef5899-f28e-41cc-a052-f95ffb5aabab"
      },
      "source": [
        "acc=[];\n",
        "for data in testloader:\n",
        "  img1_batch, img2_batch, labels = data\n",
        "  img1_batch = img1_batch.to(device); img2_batch = img2_batch.to(device);\n",
        "  img1_batch = img1_batch.type(torch.cuda.FloatTensor); img2_batch = img2_batch.type(torch.cuda.FloatTensor)\n",
        "\n",
        "  out = classifier(img1_batch,img2_batch)\n",
        "  out = torch.sigmoid(out.cpu())\n",
        "  predict = out.detach().numpy()\n",
        "  labels = labels.numpy()\n",
        "  predict[predict>=0.5] = 1.\n",
        "  predict[predict<0.5] = 0.\n",
        "  acc.append(predict==labels)\n",
        "\n",
        "acc = np.array(acc)\n",
        "acc = acc.flatten()\n",
        "print(np.mean(acc))"
      ],
      "execution_count": null,
      "outputs": [
        {
          "output_type": "stream",
          "text": [
            "0.9495192307692307\n"
          ],
          "name": "stdout"
        }
      ]
    },
    {
      "cell_type": "code",
      "metadata": {
        "id": "KEHwwgrW1VGf",
        "colab_type": "code",
        "colab": {}
      },
      "source": [
        ""
      ],
      "execution_count": null,
      "outputs": []
    }
  ]
}